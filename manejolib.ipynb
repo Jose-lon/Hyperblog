{
 "cells": [
  {
   "cell_type": "code",
   "execution_count": 1,
   "metadata": {},
   "outputs": [],
   "source": [
    "import numpy as np"
   ]
  },
  {
   "cell_type": "code",
   "execution_count": 2,
   "metadata": {},
   "outputs": [
    {
     "name": "stdout",
     "output_type": "stream",
     "text": [
      "[1, 3, 5, 7, 9]\n"
     ]
    }
   ],
   "source": [
    "numbers_v2 = [element for element in range(1,11) if element%2 != 0]\n",
    "numbers_v3 = np.array([element for element in range(1,11) if element%2 != 0])\n",
    "print(numbers_v3 == numbers_v2)"
   ]
  },
  {
   "cell_type": "code",
   "execution_count": 3,
   "metadata": {},
   "outputs": [
    {
     "data": {
      "text/plain": [
       "numpy.ndarray"
      ]
     },
     "execution_count": 3,
     "metadata": {},
     "output_type": "execute_result"
    }
   ],
   "source": [
    "arr = np.array(numbers, dtype=\"float64\")\n",
    "arr2 = np.array(numbers, ndmin = 3)\n",
    "#array.dtype\n",
    "#array = array.astype(np.float64)\n",
    "#array = array.astype(np.int8)\n",
    "#array.ndim\n",
    "#expand = np.expand_dims(numbers, axis=0)\n",
    "#array = np.squeeze(array2)\n",
    "#array.shape\n",
    "#array.reshape(1,6)\n",
    "#np.reshape(array, (1,6))\n",
    "#np.reshape(array, (1,6), \"C\")\n",
    "#np.reshape(array, (1,6), \"F\")\n",
    "#np.reshape(array, (1,6), \"A\")"
   ]
  },
  {
   "cell_type": "code",
   "execution_count": 19,
   "metadata": {},
   "outputs": [
    {
     "data": {
      "text/plain": [
       "array([[ 3,  6, 11,  3, 14,  4,  4,  4,  3, 13],\n",
       "       [ 6,  9,  4,  1, 12, 11,  1,  2,  3,  5],\n",
       "       [ 9,  3,  9, 12, 13,  9,  9,  1, 13,  6],\n",
       "       [ 7, 12, 10, 13,  6, 13, 10, 10, 11,  6],\n",
       "       [ 3,  8,  7, 11, 13,  5,  6, 10, 14,  6],\n",
       "       [ 2, 13, 10,  4, 13,  9,  7,  2,  7,  8],\n",
       "       [14,  2,  7, 10,  1, 12, 12,  2,  4,  9],\n",
       "       [11,  2,  8,  2, 13, 10, 12, 10,  9,  9],\n",
       "       [ 3, 11, 10,  9, 13,  4,  4,  7, 14, 14],\n",
       "       [ 8,  1,  8, 13, 14,  6,  1,  8,  3, 12]])"
      ]
     },
     "execution_count": 19,
     "metadata": {},
     "output_type": "execute_result"
    }
   ],
   "source": [
    "np.arange(0,20,2)\n",
    "np.zeros(3)\n",
    "np.zeros((10,10))\n",
    "np.ones((10,10))\n",
    "np.linspace(0,10,10)\n",
    "np.eye(4)\n",
    "np.random.rand(4)\n",
    "np.random.randint(1,15)\n",
    "np.random.randint(1,15,(10,10))"
   ]
  },
  {
   "cell_type": "code",
   "execution_count": 18,
   "metadata": {},
   "outputs": [
    {
     "name": "stdout",
     "output_type": "stream",
     "text": [
      "[[12  4]\n",
      " [13 10]]\n"
     ]
    },
    {
     "ename": "ValueError",
     "evalue": "cannot reshape array of size 4 into shape (4,4)",
     "output_type": "error",
     "traceback": [
      "\u001b[0;31m---------------------------------------------------------------------------\u001b[0m",
      "\u001b[0;31mValueError\u001b[0m                                Traceback (most recent call last)",
      "Cell \u001b[0;32mIn[18], line 3\u001b[0m\n\u001b[1;32m      1\u001b[0m array \u001b[39m=\u001b[39m np\u001b[39m.\u001b[39mrandom\u001b[39m.\u001b[39mrandint(\u001b[39m1\u001b[39m,\u001b[39m15\u001b[39m,(\u001b[39m2\u001b[39m,\u001b[39m2\u001b[39m))\n\u001b[1;32m      2\u001b[0m \u001b[39mprint\u001b[39m(array)\n\u001b[0;32m----> 3\u001b[0m array\u001b[39m.\u001b[39;49mreshape(\u001b[39m4\u001b[39;49m,\u001b[39m4\u001b[39;49m)\n",
      "\u001b[0;31mValueError\u001b[0m: cannot reshape array of size 4 into shape (4,4)"
     ]
    }
   ],
   "source": [
    "array = np.random.randint(1,15,(2,2))\n",
    "#array.max()\n",
    "#array.max(1)\n",
    "#array.max(0)\n",
    "#array.argmax()\n",
    "#array.min()\n",
    "#array.argmin()\n",
    "#array.ptp()\n",
    "#array.percentile(50)\n",
    "#np.percentil(array,50)\n",
    "#np.sort()\n",
    "#np.median(array)"
   ]
  }
 ],
 "metadata": {
  "kernelspec": {
   "display_name": "Python 3",
   "language": "python",
   "name": "python3"
  },
  "language_info": {
   "codemirror_mode": {
    "name": "ipython",
    "version": 3
   },
   "file_extension": ".py",
   "mimetype": "text/x-python",
   "name": "python",
   "nbconvert_exporter": "python",
   "pygments_lexer": "ipython3",
   "version": "3.10.6"
  },
  "orig_nbformat": 4,
  "vscode": {
   "interpreter": {
    "hash": "916dbcbb3f70747c44a77c7bcd40155683ae19c65e1c03b4aa3499c5328201f1"
   }
  }
 },
 "nbformat": 4,
 "nbformat_minor": 2
}
