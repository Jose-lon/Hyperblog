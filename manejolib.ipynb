{
 "cells": [
  {
   "cell_type": "code",
   "execution_count": 1,
   "metadata": {},
   "outputs": [],
   "source": [
    "import numpy as np"
   ]
  },
  {
   "cell_type": "code",
   "execution_count": 2,
   "metadata": {},
   "outputs": [
    {
     "name": "stdout",
     "output_type": "stream",
     "text": [
      "[1, 3, 5, 7, 9]\n"
     ]
    }
   ],
   "source": [
    "numbers_v2 = [element for element in range(1,11) if element%2 != 0]\n",
    "numbers_v3 = np.array([element for element in range(1,11) if element%2 != 0])\n",
    "print(numbers_v3 == numbers_v2)"
   ]
  },
  {
   "cell_type": "code",
   "execution_count": 3,
   "metadata": {},
   "outputs": [
    {
     "data": {
      "text/plain": [
       "numpy.ndarray"
      ]
     },
     "execution_count": 3,
     "metadata": {},
     "output_type": "execute_result"
    }
   ],
   "source": [
    "arr = np.array(numbers, dtype=\"float64\")\n",
    "arr2 = np.array(numbers, ndmin = 3)\n",
    "#array.dtype\n",
    "#array = array.astype(np.float64)\n",
    "#array = array.astype(np.int8)\n",
    "#array.ndim\n",
    "#expand = np.expand_dims(numbers, axis=0)\n",
    "#array = np.squeeze(array2)\n",
    "#array.shape\n",
    "#array.reshape(1,6)\n",
    "#np.reshape(array, (1,6))\n",
    "#np.reshape(array, (1,6), \"C\")\n",
    "#np.reshape(array, (1,6), \"F\")\n",
    "#np.reshape(array, (1,6), \"A\")"
   ]
  },
  {
   "cell_type": "code",
   "execution_count": 19,
   "metadata": {},
   "outputs": [
    {
     "data": {
      "text/plain": [
       "array([[ 3,  6, 11,  3, 14,  4,  4,  4,  3, 13],\n",
       "       [ 6,  9,  4,  1, 12, 11,  1,  2,  3,  5],\n",
       "       [ 9,  3,  9, 12, 13,  9,  9,  1, 13,  6],\n",
       "       [ 7, 12, 10, 13,  6, 13, 10, 10, 11,  6],\n",
       "       [ 3,  8,  7, 11, 13,  5,  6, 10, 14,  6],\n",
       "       [ 2, 13, 10,  4, 13,  9,  7,  2,  7,  8],\n",
       "       [14,  2,  7, 10,  1, 12, 12,  2,  4,  9],\n",
       "       [11,  2,  8,  2, 13, 10, 12, 10,  9,  9],\n",
       "       [ 3, 11, 10,  9, 13,  4,  4,  7, 14, 14],\n",
       "       [ 8,  1,  8, 13, 14,  6,  1,  8,  3, 12]])"
      ]
     },
     "execution_count": 19,
     "metadata": {},
     "output_type": "execute_result"
    }
   ],
   "source": [
    "np.arange(0,20,2)\n",
    "np.zeros(3)\n",
    "np.zeros((10,10))\n",
    "np.ones((10,10))\n",
    "np.linspace(0,10,10)\n",
    "np.eye(4)\n",
    "np.random.rand(4)\n",
    "np.random.randint(1,15)\n",
    "np.random.randint(1,15,(10,10))"
   ]
  },
  {
   "cell_type": "code",
   "execution_count": 6,
   "metadata": {},
   "outputs": [
    {
     "data": {
      "text/plain": [
       "array([[1, 2, 4],\n",
       "       [3, 4, 6]])"
      ]
     },
     "execution_count": 6,
     "metadata": {},
     "output_type": "execute_result"
    }
   ],
   "source": [
    "import numpy as np\n",
    "#array = np.random.randint(1,15,(2,2))\n",
    "#array.max()\n",
    "#array.max(1)\n",
    "#array.max(0)\n",
    "#array.argmax()\n",
    "#array.min()\n",
    "#array.argmin()\n",
    "#array.ptp()\n",
    "#array.percentile(50)\n",
    "#np.percentil(array,50)\n",
    "#np.sort()\n",
    "#np.median(array,1)\n",
    "#np.std(array)\n",
    "#np.var(array)\n",
    "#np.mean(array)\n",
    "a = np.array([[1,2],[3,4]])\n",
    "b = np.array([4,6])\n",
    "b = np.expand_dims(b,axis=0)\n",
    "np.concatenate((a,b.T), axis=1)"
   ]
  },
  {
   "cell_type": "code",
   "execution_count": 9,
   "metadata": {},
   "outputs": [
    {
     "name": "stdout",
     "output_type": "stream",
     "text": [
      "[0 0 0 0 0 0]\n",
      "[ 0  1  2  3  4  5  6  7  8  9 10]\n"
     ]
    }
   ],
   "source": [
    "import numpy as np\n",
    "array = np.arange(0,11)\n",
    "trozo = array.copy()\n",
    "trozo = trozo[0:6]\n",
    "trozo[:] = 0\n",
    "print(trozo)\n",
    "print(array)\n"
   ]
  },
  {
   "cell_type": "code",
   "execution_count": 19,
   "metadata": {},
   "outputs": [
    {
     "data": {
      "text/plain": [
       "array([ 1,  2,  3,  4,  5, 99, 99, 99, 99, 99], dtype=int8)"
      ]
     },
     "execution_count": 19,
     "metadata": {},
     "output_type": "execute_result"
    }
   ],
   "source": [
    "import numpy as np\n",
    "f = np.linspace(1,10,10, dtype=\"int8\")\n",
    "indice = f > 5\n",
    "f[indice & (f<9)]\n",
    "f[f > 5] = 99\n",
    "f"
   ]
  },
  {
   "cell_type": "code",
   "execution_count": 27,
   "metadata": {},
   "outputs": [],
   "source": [
    "import numpy as np\n",
    "lista = [1,2]\n",
    "lista2 = np.arange(0,10)\n",
    "lista3 = lista2.copy()\n",
    "lista3 * 2\n",
    "matriz = lista2.reshape(2,5)\n",
    "matriz2 = matriz.copy()\n",
    "matriz4 = np.matmul(matriz,matriz2.T)\n",
    "matriz5 = matriz @ matriz2.T"
   ]
  },
  {
   "cell_type": "code",
   "execution_count": 33,
   "metadata": {},
   "outputs": [
    {
     "name": "stdout",
     "output_type": "stream",
     "text": [
      "3\n"
     ]
    }
   ],
   "source": [
    "y = np.array([[[1,2,3]],[[4,5,6]],[[7,8,9]]]).ndim\n",
    "print(y)\n"
   ]
  },
  {
   "cell_type": "code",
   "execution_count": 9,
   "metadata": {},
   "outputs": [
    {
     "name": "stdout",
     "output_type": "stream",
     "text": [
      "1    True\n",
      "2    True\n",
      "3    True\n",
      "dtype: bool\n"
     ]
    },
    {
     "data": {
      "text/plain": [
       "Index(['gamer', 'altura', 'jugo'], dtype='object')"
      ]
     },
     "execution_count": 9,
     "metadata": {},
     "output_type": "execute_result"
    }
   ],
   "source": [
    "import pandas as pd\n",
    "\n",
    "psg = pd.Series([\"navas\",\"mbappe\",\"messi\"], index = [1,2,3]) \n",
    "pdg2 = pd.Series({1:\"navas\",2:\"mbappe\",3:\"messi\"})\n",
    "print(psg == pdg2)\n",
    "dict={\"gamer\":[\"navas\",\"mbappe\",\"messi\"], \"altura\": [1,2,3],\"jugo\":[\"naranja\", \"sopa\", \"manzana\"]}\n",
    "data = pd.DataFrame(dict, index=[1,2,3])\n",
    "data.columns\n",
    "\n"
   ]
  },
  {
   "cell_type": "code",
   "execution_count": null,
   "metadata": {},
   "outputs": [],
   "source": []
  },
  {
   "cell_type": "code",
   "execution_count": null,
   "metadata": {},
   "outputs": [],
   "source": []
  }
 ],
 "metadata": {
  "kernelspec": {
   "display_name": "base",
   "language": "python",
   "name": "python3"
  },
  "language_info": {
   "codemirror_mode": {
    "name": "ipython",
    "version": 3
   },
   "file_extension": ".py",
   "mimetype": "text/x-python",
   "name": "python",
   "nbconvert_exporter": "python",
   "pygments_lexer": "ipython3",
   "version": "3.9.13"
  },
  "orig_nbformat": 4,
  "vscode": {
   "interpreter": {
    "hash": "62119c46a8aa2b24424a460f1d8e0772177fdde37f8634ae5fc0f027c191fd0d"
   }
  }
 },
 "nbformat": 4,
 "nbformat_minor": 2
}
